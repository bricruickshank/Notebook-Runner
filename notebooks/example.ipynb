{
 "cells": [
  {
   "cell_type": "markdown",
   "metadata": {},
   "source": ["# Example Report\\n","Minimal notebook that plots and emits a CSV.\\n"]
  },
  {
   "cell_type": "code",
   "metadata": {"papermill": {"parameters": true}},
   "execution_count": null,
   "outputs": [],
   "source": ["days = 14\\n","title = 'Demo KPI Trend'\\n"]
  },
  {
   "cell_type": "code",
   "metadata": {},
   "execution_count": null,
   "outputs": [],
   "source": [
     "import pandas as pd, numpy as np\\n",
     "import matplotlib.pyplot as plt\\n",
     "rng = pd.date_range(end=pd.Timestamp.today().normalize(), periods=days)\\n",
     "df = pd.DataFrame({'date': rng, 'value': np.random.rand(days).cumsum()})\\n",
     "df"
   ]
  },
  {
   "cell_type": "code",
   "metadata": {},
   "execution_count": null,
   "outputs": [],
   "source": [
     "plt.figure()\\n",
     "plt.plot(df['date'], df['value'])\\n",
     "plt.title(title)\\n",
     "plt.xlabel('date'); plt.ylabel('value')\\n",
     "plt.xticks(rotation=45)\\n",
     "plt.tight_layout()\\n",
     "plt.show()"
   ]
  },
  {
   "cell_type": "code",
   "metadata": {},
   "execution_count": null,
   "outputs": [],
   "source": [
     "from IPython.display import display\\n",
     "csv_text = df.to_csv(index=False)\\n",
     "display({'text/csv': csv_text}, metadata={'name': 'kpi_export'}, raw=True)"
   ]
  }
 ],
 "metadata": {
  "kernelspec": {"display_name": "python3","language": "python","name": "python3"},
  "language_info": {"name": "python","version": "3.11"}
 },
 "nbformat": 4,
 "nbformat_minor": 5
}
